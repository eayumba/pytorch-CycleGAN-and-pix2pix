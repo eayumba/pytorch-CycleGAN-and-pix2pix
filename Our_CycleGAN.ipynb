{
  "nbformat": 4,
  "nbformat_minor": 0,
  "metadata": {
    "colab": {
      "name": "Our CycleGAN",
      "provenance": [],
      "collapsed_sections": [],
      "toc_visible": true,
      "machine_shape": "hm"
    },
    "kernelspec": {
      "name": "python3",
      "display_name": "Python 3"
    },
    "accelerator": "GPU"
  },
  "cells": [
    {
      "cell_type": "markdown",
      "metadata": {
        "id": "5VIGyIus8Vr7"
      },
      "source": [
        "Take a look at the original (junyanz) [repository](https://github.com/junyanz/pytorch-CycleGAN-and-pix2pix) for more information"
      ]
    },
    {
      "cell_type": "markdown",
      "metadata": {
        "id": "7wNjDKdQy35h"
      },
      "source": [
        "# Install"
      ]
    },
    {
      "cell_type": "code",
      "metadata": {
        "id": "TRm-USlsHgEV",
        "colab": {
          "base_uri": "https://localhost:8080/"
        },
        "outputId": "0e9d3bad-aa5b-4a27-9021-b477ac367891"
      },
      "source": [
        "!git clone https://github.com/eayumba/pytorch-CycleGAN-and-pix2pix"
      ],
      "execution_count": 1,
      "outputs": [
        {
          "output_type": "stream",
          "text": [
            "Cloning into 'pytorch-CycleGAN-and-pix2pix'...\n",
            "remote: Enumerating objects: 5256, done.\u001b[K\n",
            "remote: Counting objects: 100% (1528/1528), done.\u001b[K\n",
            "remote: Compressing objects: 100% (1433/1433), done.\u001b[K\n",
            "remote: Total 5256 (delta 105), reused 1517 (delta 94), pack-reused 3728\u001b[K\n",
            "Receiving objects: 100% (5256/5256), 439.49 MiB | 51.92 MiB/s, done.\n",
            "Resolving deltas: 100% (1721/1721), done.\n",
            "Checking out files: 100% (3280/3280), done.\n"
          ],
          "name": "stdout"
        }
      ]
    },
    {
      "cell_type": "code",
      "metadata": {
        "id": "Pt3igws3eiVp"
      },
      "source": [
        "import os\n",
        "os.chdir('pytorch-CycleGAN-and-pix2pix/')"
      ],
      "execution_count": 2,
      "outputs": []
    },
    {
      "cell_type": "code",
      "metadata": {
        "id": "z1EySlOXwwoa"
      },
      "source": [
        "!pip install -r requirements.txt"
      ],
      "execution_count": null,
      "outputs": []
    },
    {
      "cell_type": "markdown",
      "metadata": {
        "id": "wFFpGyW2QY1n"
      },
      "source": [
        "# **Don't forget to create the ./mycheckpoints folder within the cloned repo.**"
      ]
    },
    {
      "cell_type": "markdown",
      "metadata": {
        "id": "8daqlgVhw29P"
      },
      "source": [
        "# Datasets\n",
        "\n",
        "Use your own dataset by creating the appropriate folders and adding in the images.\n",
        "\n",
        "-   Create a dataset folder under `/datasets` for your dataset.\n",
        "-   Create subfolders `testA`, `testB`, `trainA`, and `trainB` under your dataset's folder. Place any images you want to transform from a to b (cat2dog) in the `testA` folder, images you want to transform from b to a (dog2cat) in the `testB` folder, and do the same for the `trainA` and `trainB` folders."
      ]
    },
    {
      "cell_type": "markdown",
      "metadata": {
        "id": "gdUz4116xhpm"
      },
      "source": [
        "### **Pretrained Models**\n",
        "\n",
        "Add your own pretrained model to `./checkpoints/{NAME}_pretrained/latest_net_G.pth`\n",
        "- Alternatively, you can upload the formatted mycheckpoints/modelName folder with the latest_net_G_A.pth and latest_net_G_B.pth generator models files within the modelName folder, from which you can skip to testing, or modify train.py and train_options.py to begin improving on your pretrained model."
      ]
    },
    {
      "cell_type": "markdown",
      "metadata": {
        "id": "yFw1kDQBx3LN"
      },
      "source": [
        "# Training\n",
        "\n",
        "-   `python train.py --dataroot ./datasets/datasetName --name horse2zebra --model cycle_gan`\n",
        "\n",
        "Change the `--dataroot` and `--name` to your own dataset's path and model's name. Use `--gpu_ids 0,1,..` to train on multiple GPUs and `--batch_size` to change the batch size. I've found that a batch size of 16 fits onto 4 V100s and can finish training an epoch in ~90s.\n",
        "\n",
        "Once your model has trained, copy over the last checkpoint to a format that the testing model can automatically detect:\n",
        "\n",
        "Use `cp ./checkpoints/modelName/latest_net_G_A.pth ./checkpoints/modelName/latest_net_G.pth` if you want to transform images from class A to class B and `cp ./checkpoints/modelName/latest_net_G_B.pth ./checkpoints/modelName/latest_net_G.pth` if you want to transform images from class B to class A.\n"
      ]
    },
    {
      "cell_type": "code",
      "metadata": {
        "id": "0sp7TCT2x9dB",
        "colab": {
          "base_uri": "https://localhost:8080/"
        },
        "outputId": "9c1daf3f-532d-4112-8e7d-cf4c6a791554"
      },
      "source": [
        "!python train.py --dataroot ./datasets/MELSpectro --name MELSpectro --model cycle_gan"
      ],
      "execution_count": null,
    },
    {
      "cell_type": "code",
      "metadata": {
        "id": "AlooBHl8qpuO"
      },
      "source": [
        "# USE THIS TO ZIP UP AND DOWNLOAD EVERYTHING RELATED TO THE TRAINED MODEL: WARNING: VERY LARGE FILE, includes 8 images from each epoch.\n",
        "!zip -r ./mycheckpoints/MELSpectro.zip ./mycheckpoints/MELSpectro\n",
        "# from google.colab import files\n",
        "# files.download(\"./mycheckpoints/MELSpectro.zip\")"
      ],
      "execution_count": null,
      "outputs": []
    },
    {
      "cell_type": "markdown",
      "metadata": {
        "id": "9UkcaFZiyASl"
      },
      "source": [
        "# Testing\n",
        "\n",
        "-   `python test.py --dataroot datasets/modelName/testA --name modelName_pretrained --model test --no_dropout`\n",
        "\n",
        "Change the `--dataroot` and `--name` to be consistent with your trained model's configuration.\n",
        "\n",
        "> from https://github.com/junyanz/pytorch-CycleGAN-and-pix2pix:\n",
        "> The option --model test is used for generating results of CycleGAN only for one side. This option will automatically set --dataset_mode single, which only loads the images from one set. On the contrary, using --model cycle_gan requires loading and generating results in both directions, which is sometimes unnecessary. The results will be saved at ./results/. Use --results_dir {directory_path_to_save_result} to specify the results directory.\n",
        "\n",
        "> For your own experiments, you might want to specify --netG, --norm, --no_dropout to match the generator architecture of the trained model."
      ]
    },
    {
      "cell_type": "code",
      "metadata": {
        "id": "fQfd5iDPObln"
      },
      "source": [
        "#USED TO PLACE YOUR MODEL TESTING FILES AS DESCRIBED AT THE BOTTOM OF THE TRAINING SECTION DESCRIPTION\n",
        "!cp ./mycheckpoints/MELSpectro/latest_net_G_B.pth ./mycheckpoints/MELSpectro/latest_net_G.pth"
      ],
      "execution_count": 6,
      "outputs": []
    },
    {
      "cell_type": "code",
      "metadata": {
        "id": "uCsKkEq0yGh0",
        "colab": {
          "base_uri": "https://localhost:8080/"
        },
        "outputId": "b12ce27a-da54-47cf-8cb7-40e1898610af"
      },
      "source": [
        "!python test.py --dataroot datasets/MELSpectro/testA --name MELSpectro --model test --no_dropout"
      ],
      "execution_count": 7,
      "outputs": [
        {
          "output_type": "stream",
          "text": [
            "----------------- Options ---------------\n",
            "             aspect_ratio: 1.0                           \n",
            "               batch_size: 1                             \n",
            "          checkpoints_dir: ./mycheckpoints               \n",
            "                crop_size: 256                           \n",
            "                 dataroot: datasets/MELSpectro/testA     \t[default: None]\n",
            "             dataset_mode: single                        \n",
            "                direction: AtoB                          \n",
            "          display_winsize: 256                           \n",
            "                    epoch: latest                        \n",
            "                     eval: False                         \n",
            "                  gpu_ids: 0                             \n",
            "                init_gain: 0.02                          \n",
            "                init_type: normal                        \n",
            "                 input_nc: 3                             \n",
            "                  isTrain: False                         \t[default: None]\n",
            "                load_iter: 0                             \t[default: 0]\n",
            "                load_size: 256                           \n",
            "         max_dataset_size: inf                           \n",
            "                    model: test                          \n",
            "             model_suffix:                               \n",
            "               n_layers_D: 3                             \n",
            "                     name: MELSpectro                    \t[default: experiment_name]\n",
            "                      ndf: 64                            \n",
            "                     netD: basic                         \n",
            "                     netG: resnet_9blocks                \n",
            "                      ngf: 64                            \n",
            "               no_dropout: True                          \t[default: False]\n",
            "                  no_flip: False                         \n",
            "                     norm: instance                      \n",
            "                 num_test: 50                            \n",
            "              num_threads: 4                             \n",
            "                output_nc: 3                             \n",
            "                    phase: test                          \n",
            "               preprocess: resize_and_crop               \n",
            "              results_dir: ./results/                    \n",
            "           serial_batches: False                         \n",
            "                   suffix:                               \n",
            "                  verbose: False                         \n",
            "----------------- End -------------------\n",
            "/usr/local/lib/python3.7/dist-packages/torchvision/transforms/transforms.py:258: UserWarning: Argument interpolation should be of type InterpolationMode instead of int. Please, use InterpolationMode enum.\n",
            "  \"Argument interpolation should be of type InterpolationMode instead of int. \"\n",
            "dataset [SingleDataset] was created\n",
            "initialize network with normal\n",
            "model [TestModel] was created\n",
            "loading the model from ./mycheckpoints/MELSpectro/latest_net_G.pth\n",
            "---------- Networks initialized -------------\n",
            "[Network G] Total number of parameters : 11.378 M\n",
            "-----------------------------------------------\n",
            "creating web directory ./results/MELSpectro/test_latest\n",
            "processing (0000)-th image... ['datasets/MELSpectro/testA/Lofi hip hop mix - Beats to Relax_Study to [2018]1516.0MEL.png']\n",
            "processing (0005)-th image... ['datasets/MELSpectro/testA/Lofi hip hop mix - Beats to Relax_Study to [2018]3524.0MEL.png']\n"
          ],
          "name": "stdout"
        }
      ]
    },
    {
      "cell_type": "code",
      "metadata": {
        "id": "lcaG__1p0O7o"
      },
      "source": [
        "#USE THIS TO SAVE YOUR TESTING RESULTS IN A ZIP FILE IN THE ./ DIRECTORY, WHICH YOU CAN THEN DOWNLOAD FROM THE COLAB FILESYSTEM\n",
        "!zip -r ./results.zip ./results"
      ],
      "execution_count": null,
      "outputs": []
    }
  ]
}
