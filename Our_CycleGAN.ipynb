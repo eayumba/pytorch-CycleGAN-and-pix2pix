{
  "nbformat": 4,
  "nbformat_minor": 0,
  "metadata": {
    "colab": {
      "name": "Our CycleGAN",
      "provenance": [],
      "collapsed_sections": [],
      "toc_visible": true,
      "machine_shape": "hm"
    },
    "kernelspec": {
      "name": "python3",
      "display_name": "Python 3"
    },
    "accelerator": "GPU"
  },
  "cells": [
    {
      "cell_type": "markdown",
      "metadata": {
        "id": "5VIGyIus8Vr7"
      },
      "source": [
        "Take a look at the original (junyanz) [repository](https://github.com/junyanz/pytorch-CycleGAN-and-pix2pix) for more information"
      ]
    },
    {
      "cell_type": "markdown",
      "metadata": {
        "id": "7wNjDKdQy35h"
      },
      "source": [
        "# Install"
      ]
    },
    {
      "cell_type": "code",
      "metadata": {
        "id": "TRm-USlsHgEV"
      },
      "source": [
        "!git clone https://github.com/eayumba/pytorch-CycleGAN-and-pix2pix"
      ],
      "execution_count": null,
      "outputs": []
    },
    {
      "cell_type": "code",
      "metadata": {
        "id": "Pt3igws3eiVp"
      },
      "source": [
        "import os\n",
        "os.chdir('pytorch-CycleGAN-and-pix2pix/')"
      ],
      "execution_count": 2,
      "outputs": []
    },
    {
      "cell_type": "code",
      "metadata": {
        "id": "z1EySlOXwwoa"
      },
      "source": [
        "!pip install -r requirements.txt"
      ],
      "execution_count": null,
      "outputs": []
    },
    {
      "cell_type": "markdown",
      "metadata": {
        "id": "wFFpGyW2QY1n"
      },
      "source": [
        "# **Don't forget to create the ./mycheckpoints folder within the cloned repo.**"
      ]
    },
    {
      "cell_type": "markdown",
      "metadata": {
        "id": "8daqlgVhw29P"
      },
      "source": [
        "# Datasets\n",
        "\n",
        "Use your own dataset by creating the appropriate folders and adding in the images.\n",
        "\n",
        "-   Create a dataset folder under `/datasets` for your dataset.\n",
        "-   Create subfolders `testA`, `testB`, `trainA`, and `trainB` under your dataset's folder. Place any images you want to transform from a to b (cat2dog) in the `testA` folder, images you want to transform from b to a (dog2cat) in the `testB` folder, and do the same for the `trainA` and `trainB` folders."
      ]
    },
    {
      "cell_type": "markdown",
      "metadata": {
        "id": "gdUz4116xhpm"
      },
      "source": [
        "### **Pretrained Models**\n",
        "\n",
        "Add your own pretrained model to `./checkpoints/{NAME}_pretrained/latest_net_G.pth`\n",
        "- Alternatively, you can upload the formatted mycheckpoints/modelName folder with the latest_net_G_A.pth and latest_net_G_B.pth generator models files within the modelName folder, from which you can skip to testing, or modify train.py and train_options.py to begin improving on your pretrained model."
      ]
    },
    {
      "cell_type": "markdown",
      "metadata": {
        "id": "yFw1kDQBx3LN"
      },
      "source": [
        "# Training\n",
        "\n",
        "-   `python train.py --dataroot ./datasets/datasetName --name horse2zebra --model cycle_gan`\n",
        "\n",
        "Change the `--dataroot` and `--name` to your own dataset's path and model's name. Use `--gpu_ids 0,1,..` to train on multiple GPUs and `--batch_size` to change the batch size. I've found that a batch size of 16 fits onto 4 V100s and can finish training an epoch in ~90s.\n",
        "\n",
        "Once your model has trained, copy over the last checkpoint to a format that the testing model can automatically detect:\n",
        "\n",
        "Use `cp ./checkpoints/modelName/latest_net_G_A.pth ./checkpoints/modelName/latest_net_G.pth` if you want to transform images from class A to class B and `cp ./checkpoints/modelName/latest_net_G_B.pth ./checkpoints/modelName/latest_net_G.pth` if you want to transform images from class B to class A.\n"
      ]
    },
    {
      "cell_type": "code",
      "metadata": {
        "id": "0sp7TCT2x9dB"
      },
      "source": [
        "!python train.py --dataroot ./datasets/MELSpectro --name MELSpectro --model cycle_gan"
      ],
      "execution_count": null,
      "outputs": []
    },
    {
      "cell_type": "code",
      "metadata": {
        "id": "AlooBHl8qpuO"
      },
      "source": [
        "# USE THIS TO ZIP UP AND DOWNLOAD EVERYTHING RELATED TO THE TRAINED MODEL: WARNING: VERY LARGE FILE, includes 8 images from each epoch.\n",
        "!zip -r ./mycheckpoints/MELSpectro.zip ./mycheckpoints/MELSpectro\n",
        "# from google.colab import files\n",
        "# files.download(\"./mycheckpoints/MELSpectro.zip\")"
      ],
      "execution_count": null,
      "outputs": []
    },
    {
      "cell_type": "markdown",
      "metadata": {
        "id": "9UkcaFZiyASl"
      },
      "source": [
        "# Testing\n",
        "\n",
        "-   `python test.py --dataroot datasets/modelName/testA --name modelName_pretrained --model test --no_dropout`\n",
        "\n",
        "Change the `--dataroot` and `--name` to be consistent with your trained model's configuration.\n",
        "\n",
        "> from https://github.com/junyanz/pytorch-CycleGAN-and-pix2pix:\n",
        "> The option --model test is used for generating results of CycleGAN only for one side. This option will automatically set --dataset_mode single, which only loads the images from one set. On the contrary, using --model cycle_gan requires loading and generating results in both directions, which is sometimes unnecessary. The results will be saved at ./results/. Use --results_dir {directory_path_to_save_result} to specify the results directory.\n",
        "\n",
        "> For your own experiments, you might want to specify --netG, --norm, --no_dropout to match the generator architecture of the trained model."
      ]
    },
    {
      "cell_type": "code",
      "metadata": {
        "id": "fQfd5iDPObln"
      },
      "source": [
        "#USED TO PLACE YOUR MODEL TESTING FILES AS DESCRIBED AT THE BOTTOM OF THE TRAINING SECTION DESCRIPTION\n",
        "!cp ./mycheckpoints/MELSpectro/latest_net_G_B.pth ./mycheckpoints/MELSpectro/latest_net_G.pth"
      ],
      "execution_count": 6,
      "outputs": []
    },
    {
      "cell_type": "code",
      "metadata": {
        "id": "uCsKkEq0yGh0"
      },
      "source": [
        "!python test.py --dataroot datasets/MELSpectro/testA --name MELSpectro --model test --no_dropout"
      ],
      "execution_count": null,
      "outputs": []
    },
    {
      "cell_type": "code",
      "metadata": {
        "id": "lcaG__1p0O7o"
      },
      "source": [
        "#USE THIS TO SAVE YOUR TESTING RESULTS IN A ZIP FILE IN THE ./ DIRECTORY, WHICH YOU CAN THEN DOWNLOAD FROM THE COLAB FILESYSTEM\n",
        "!zip -r ./results.zip ./results"
      ],
      "execution_count": null,
      "outputs": []
    }
  ]
}